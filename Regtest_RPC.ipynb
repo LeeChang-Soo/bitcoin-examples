{
 "cells": [
  {
   "cell_type": "markdown",
   "metadata": {},
   "source": [
    "#### [Bitcoin API](https://bitcoin.org/en/developer-reference#bitcoin-core-apis)\n",
    "\n",
    "This notebook takes the [Bitcoin Developers Reference](https://bitcoin.org/en/developer-reference), specifically the [Bitcoin API](https://bitcoin.org/en/developer-reference#bitcoin-core-apis), and demonstrates the use of the Remote Procedure Calls (RPC) via python.  We employ the [regression testing mode](https://bitcoin.org/en/developer-examples#regtest-mode) of bitcoin, regtest, to start with a clean blockchain.\n",
    "\n",
    "The notebook orders the RPC methods to illustrate how to use the API.  In the [Bitcoin Developers Reference](https://bitcoin.org/en/developer-reference) the RPC methods are in alphabetical order while the python example code below is in *discovery* sequence, starting with creating the genesis block, mining our first bitcoins, sending some to another user and showing updates to the blockchain throughout the process.\n",
    "\n",
    "The notebook may be useful for beginners looking for a simple python interface to the Bitcoin API; we use the [python bitcoin module](https://github.com/petertodd/python-bitcoinlib) created by Peter Todd for its simplicity.  As well, the value to the user who is new to python is a simple step by step walk thru of the various methods in the API in an incremental introduction without the confusion of thousands of transactions in a typical block on mainnet."
   ]
  },
  {
   "cell_type": "markdown",
   "metadata": {},
   "source": [
    "We create two users on the regression test network (regtest):\n",
    "\n",
    "* Bob  on RPC port 16591 \n",
    "* Mary on RPC port 16592.  \n",
    "\n",
    "We create independent peers on the same network.  \n",
    "\n",
    "Handy shell command to see current nodes:\n",
    "\n",
    "```ps aux |grep bitcoin```\n",
    "\n",
    "We could add as many nodes to regtest as we like (upper limit?) and connect them in a round-robin way so that node 1 listens to node 2... and node N listens to node 1.  For our examples here, we use just two nodes in the dictionary ```connects```.\n",
    "\n",
    "The python script below is designed for Linux (Ubuntu) and would need to be modified for other platforms.\n"
   ]
  },
  {
   "cell_type": "code",
   "execution_count": 1,
   "metadata": {
    "collapsed": false
   },
   "outputs": [],
   "source": [
    "#!/bin/bash\n",
    "#regtest_start_network.sh\n",
    "import os\n",
    "import shutil\n",
    "\n",
    "#os.system(\"killall --regex bitcoin.*\")\n",
    "\n",
    "idir = os.environ['HOME']+'/regtest'\n",
    "if os.path.isdir(idir):\n",
    "    shutil.rmtree(idir)\n",
    "\n",
    "os.mkdir(idir)\n",
    "connects = {'17591' : '17592', '17592' : '17591'}\n",
    "\n",
    "for port in connects.keys():\n",
    "    adir = idir+'/'+port\n",
    "    os.mkdir(adir)\n",
    "    args = \" -server -txindex=1 -listen -port=\" + port + \\\n",
    "           \" -rpcuser=bitcoinrpc -rpcpassword=P0 -rpcport=\"+\\\n",
    "           str(int(port)-1000) +\\\n",
    "           \" -datadir=\" + adir + \" -connect=localhost:\" + connects[port] +\\\n",
    "           \" -regtest -pid=\"+port+\".pid -daemon -debug\"\n",
    "    os.system(\"bitcoind\" + args)\n"
   ]
  },
  {
   "cell_type": "markdown",
   "metadata": {},
   "source": [
    "Import the [python bitcoin module](https://github.com/petertodd/python-bitcoinlib) created by Peter Todd."
   ]
  },
  {
   "cell_type": "code",
   "execution_count": 2,
   "metadata": {
    "collapsed": false
   },
   "outputs": [],
   "source": [
    "import bitcoin\n",
    "import bitcoin.rpc\n",
    "\n",
    "import bitcoin.core \n",
    "import bitcoin.core.script "
   ]
  },
  {
   "cell_type": "markdown",
   "metadata": {},
   "source": [
    "#### Connect nodes to bitcoin-rpc module\n",
    "\n",
    "We hard-code the username and passwords here for pedagogical ease.  We display the blockchain information using the widely used, but deprecated getinfo() RPC.\n",
    "\n",
    "getinfo() [returns](http://bitcoin.stackexchange.com/questions/18033/what-does-getinfo-output-mean):\n",
    "\n",
    "version - The version number of this bitcoin-qt or bitcoind program itself. Both of are equivalent. -qt is simply the graphical user interface version\n",
    "\n",
    "protocolversion: The version of the bitcoin network protocol supported by this client (user agent software).\n",
    "\n",
    "walletversion: The version of the wallet.dat file. Wallet.dat contains bitcoin addresses and public & private key pairs for these addresses. There is additional data on the wallet. Care must be taken to not restore from an old wallet backup. New addresses generated in the wallet since the old backup was made will not exist in the old backup! [Source](https://en.bitcoin.it/wiki/Wallet)\n",
    "\n",
    "balance: The total number of bitcoins held in the wallet.dat file.\n",
    "\n",
    "blocks: The total number of blocks which constitute the shared block chain.\n",
    "\n",
    "timeoffset: Seconds of difference between this node's \"wall clock time\" and the median reported by our network peers.\n",
    "\n",
    "connections: the number of peers on the bitcoin P2P network that this node is connected to.\n",
    "\n",
    "proxy: If using a proxy to connect to the network, listed here, otherwise blank.\n",
    "\n",
    "difficulty: the current mining difficulty factor. Difficulty is increased as more miners and more hash compute power compete to be the next one to have a block of transactions added to the blockchain.\n",
    "\n",
    "testnet: Boolean value (true OR false). There is a parallel bitcoin network, the testnet, where trials and experiments may be carried out without impacting the official, live bitcoin P2P network\n",
    "\n",
    "keypoololdest: timestamp (UNIX epoch) of the oldest key in the keypool\n",
    "\n",
    "keypoolsize: A number of addresses are kept in reserve by the client. This is the size of that reserve.\n",
    "\n",
    "paytxfee: Specifies what fee the client is willing to pay to expedite transactions. Miners may choose to ignore transactions that do not pay a fee, and these fee-less transactions will have low priority on queue of pending transaction and may linger there for hours.\n",
    "\n",
    "errors: This field may inform of different status conditions. Full list of error codes in source file [bitcoinrpc.h](https://dev.visucore.com/bitcoin/doxygen/bitcoinrpc_8h_source.html) (Examples: \"Bitcoin not connected\", \"database error\", \"Keypool ran out\"...) \n"
   ]
  },
  {
   "cell_type": "code",
   "execution_count": 4,
   "metadata": {
    "collapsed": false
   },
   "outputs": [
    {
     "name": "stdout",
     "output_type": "stream",
     "text": [
      "connections : 2\n",
      "errors : This is a pre-release test build - use at your own risk - do not use for mining or merchant applications\n",
      "blocks : 0\n",
      "paytxfee : 0E-8\n",
      "keypoololdest : 1442925718\n",
      "walletversion : 60000\n",
      "difficulty : 0E-8\n",
      "testnet : False\n",
      "version : 119900\n",
      "proxy : \n",
      "protocolversion : 70002\n",
      "timeoffset : 0\n",
      "balance : 0E-8\n",
      "relayfee : 0.00001000\n",
      "keypoolsize : 101\n"
     ]
    }
   ],
   "source": [
    "bitcoin.SelectParams('regtest')\n",
    "\n",
    "Bob  = bitcoin.rpc.RawProxy(\"http://bitcoinrpc:P0@127.0.0.1:16591\")\n",
    "Mary = bitcoin.rpc.RawProxy(\"http://bitcoinrpc:P0@127.0.0.1:16592\")\n",
    "\n",
    "info = Bob.getinfo()\n",
    "for key in info.keys():\n",
    "    print key + ' : ' + str(info[key])"
   ]
  },
  {
   "cell_type": "markdown",
   "metadata": {},
   "source": [
    "#### Network attributes\n",
    "The following RCPs are used to determine the network attributes.  We highlight the informational RPCs and leave the [AddNode](https://bitcoin.org/en/developer-reference#addnode) and [GetAddedNodeInfo](https://bitcoin.org/en/developer-reference#getaddednodeinfo) for later investigation.\n",
    "\n",
    "#### Network RPCs\n",
    "\n",
    "* [AddNode](https://bitcoin.org/en/developer-reference#addnode): attempts to add or remove a node from the addnode list, or to try a connection to a node once.\n",
    "* [GetAddedNodeInfo](https://bitcoin.org/en/developer-reference#getaddednodeinfo): returns information about the given added node, or all added nodes (except onetry nodes). Only nodes which have been manually added using the addnode RPC will have their information displayed.\n",
    "* [GetConnectionCount](https://bitcoin.org/en/developer-reference#GetConnectionCount): returns the number of connections to other nodes.\n",
    "* [GetNetTotals](https://bitcoin.org/en/developer-reference#GetNetTotals): returns information about network traffic, including bytes in, bytes out, and the current time.\n",
    "* [GetNetworkInfo](https://bitcoin.org/en/developer-reference#GetNetworkInfo): returns information about the node’s connection to the network. New in 0.9.2, Updated in 0.10.0\n",
    "* [GetPeerInfo](https://bitcoin.org/en/developer-reference#GetPeerInfo): returns data about each connected network node. Updated in 0.10.0\n",
    "* [Ping](https://bitcoin.org/en/developer-reference#Ping): sends a P2P ping message to all connected nodes to measure ping time. Results are provided by the getpeerinfo RPC pingtime and pingwait fields as decimal seconds. The P2P ping message is handled in a queue with all other commands, so it measures processing backlog, not just network ping."
   ]
  },
  {
   "cell_type": "code",
   "execution_count": null,
   "metadata": {
    "collapsed": false
   },
   "outputs": [],
   "source": [
    "getnetworkinfo = Bob.getnetworkinfo()\n",
    "print '\\ngetnetworkinfo\\n'\n",
    "print getnetworkinfo\n",
    "getpeerinfo = Bob.getpeerinfo()\n",
    "print '\\ngetpeerinfo\\n'\n",
    "print getpeerinfo\n",
    "getconnectioncount = Bob.getconnectioncount()\n",
    "print '\\ngetconnectioncount\\n'\n",
    "print getconnectioncount\n",
    "getnettotals = Bob.getnettotals()\n",
    "print '\\ngetnettotals\\n'\n",
    "print getnettotals\n"
   ]
  },
  {
   "cell_type": "markdown",
   "metadata": {},
   "source": [
    "#### Block Chain RPCs\n",
    "\n",
    "* [GetBestBlockHash](https://bitcoin.org/en/developer-reference#getbestblockhash): returns the header hash of the most recent block on the best block chain. New in 0.9.0\n",
    "* [GetBlock](https://bitcoin.org/en/developer-reference#GetBlock): gets a block with a particular header hash from the local block database either as a JSON object or as a serialized block.\n",
    "* [GetBlockChainInfo](https://bitcoin.org/en/developer-reference#GetBlockChainInfo): provides information about the current state of the block chain. New in 0.9.2, Updated in 0.10.0\n",
    "* [GetBlockCount](https://bitcoin.org/en/developer-reference#GetBlockCount): returns the number of blocks in the local best block chain.\n",
    "* [GetBlockHash](https://bitcoin.org/en/developer-reference#GetBlockHash): returns the header hash of a block at the given height in the local best block chain.\n",
    "* [GetChainTips](https://bitcoin.org/en/developer-reference#GetChainTips): returns information about the highest-height block (tip) of each local block chain. New in 0.10.0\n",
    "* [GetDifficulty](https://bitcoin.org/en/developer-reference#GetDifficulty): returns the proof-of-work difficulty as a multiple of the minimum difficulty.\n",
    "* [GetMemPoolInfo](https://bitcoin.org/en/developer-reference#GetMemPoolInfo): returns information about the node’s current transaction memory pool. New in 0.10.0\n",
    "* [GetRawMemPool](https://bitcoin.org/en/developer-reference#GetRawMemPool): returns all transaction identifiers (TXIDs) in the memory pool as a JSON array, or detailed information about each transaction in the memory pool as a JSON object.\n",
    "* [GetTxOut](https://bitcoin.org/en/developer-reference#GetTxOut): returns details about a transaction output. Only unspent transaction outputs (UTXOs) are guaranteed to be available.\n",
    "* [GetTxOutProof](https://bitcoin.org/en/developer-reference#GetTxOutProof): returns a hex-encoded proof that one or more specified transactions were included in a block. New in 0.11.0\n",
    "* [GetTxOutSetInfo](https://bitcoin.org/en/developer-reference#GetTxOutSetInfo): returns statistics about the confirmed unspent transaction output (UTXO) set. Note that this call may take some time and that it only counts outputs from confirmed transactions—it does not count outputs from the memory pool.\n",
    "* [VerifyChain](https://bitcoin.org/en/developer-reference#VerifyChain): verifies each entry in the local block chain database.\n",
    "* [VerifyTxOutProof](https://bitcoin.org/en/developer-reference#VerifyTxOutProof): verifies that a proof points to one or more transactions in a block, returning the transactions the proof commits to and throwing an RPC error if the block is not in our best block chain. New in 0.11.0\n"
   ]
  },
  {
   "cell_type": "code",
   "execution_count": null,
   "metadata": {
    "collapsed": false
   },
   "outputs": [],
   "source": [
    "blockchaininfo = Bob.getblockchaininfo()\n",
    "getblockcount  =  Bob.getblockcount()\n",
    "getbestblockhash =  Bob.getbestblockhash()\n",
    "getdifficulty  =  Bob.getdifficulty()\n",
    "getchaintips   =  Bob.getchaintips()\n",
    "getmempoolinfo = Bob.getmempoolinfo()\n",
    "\n",
    "print '\\nblockchaininfo\\n'\n",
    "print blockchaininfo\n",
    "print '\\ngetblockcount ' + str(getblockcount)\n",
    "print '\\ngetbestblockhash\\n'\n",
    "print getbestblockhash\n",
    "print '\\ngetdifficulty ' + str(getdifficulty)\n",
    "print '\\ngetchaintips\\n'\n",
    "print getchaintips\n",
    "print '\\ngetmempoolinfo\\n'\n",
    "print getmempoolinfo\n",
    "\n",
    "print '\\n\\n'\n",
    "\n",
    "bestblockhash  =  blockchaininfo['bestblockhash']\n",
    "blocks         =  blockchaininfo['blocks']\n",
    "print '\\nblocks = ' + str(blocks)\n",
    "print '\\nbestblockhash = ' + str(bestblockhash)\n",
    "\n"
   ]
  },
  {
   "cell_type": "markdown",
   "metadata": {},
   "source": [
    "#### Bootstrap\n",
    "\n",
    "Bootstrap some bitcoins so we can spend them.  In regtest, you use generate and mine 101 blocks rewarding you with 50 bitcoins in a coinbase transaction.  On testnet, you use a faucet to get some bitcoins.  On mainnet, you need actual bitcoins.  We will stick with regtest for now."
   ]
  },
  {
   "cell_type": "code",
   "execution_count": 5,
   "metadata": {
    "collapsed": false
   },
   "outputs": [
    {
     "name": "stdout",
     "output_type": "stream",
     "text": [
      "Initial balance, before any mining 0E-8\n",
      "Balance after mining 101 blocks 50.00000000\n"
     ]
    }
   ],
   "source": [
    "## N.B. our balance is zero in the genesis block\n",
    "print 'Initial balance, before any mining ' + str(Bob.getbalance())\n",
    "\n",
    "Bob.generate(101)\n",
    "\n",
    "print 'Balance after mining 101 blocks ' + str(Bob.getbalance())\n"
   ]
  },
  {
   "cell_type": "markdown",
   "metadata": {},
   "source": [
    "#### Raw Transaction RPCs\n",
    "\n",
    "* [CreateRawTransaction](https://bitcoin.org/en/developer-reference#createrawtransaction): creates an unsigned serialized transaction that spends a previous output to a new output with a P2PKH or P2SH address. The transaction is not stored in the wallet or transmitted to the network.\n",
    "* [DecodeRawTransaction](https://bitcoin.org/en/developer-reference#DecodeRawTransaction): decodes a serialized transaction hex string into a JSON object describing the transaction.\n",
    "* [DecodeScript](https://bitcoin.org/en/developer-reference#DecodeScript): decodes a hex-encoded P2SH redeem script.\n",
    "* [GetRawTransaction](https://bitcoin.org/en/developer-reference#GetRawTransaction): gets a hex-encoded serialized transaction or a JSON object describing the transaction. By default, Bitcoin Core only stores complete transaction data for UTXOs and your own transactions, so the RPC may fail on historic transactions unless you use the non-default txindex=1 in your Bitcoin Core startup settings.\n",
    "* [SendRawTransaction](https://bitcoin.org/en/developer-reference#SendRawTransaction): validates a transaction and broadcasts it to the peer-to-peer network.\n",
    "* [SignRawTransaction](https://bitcoin.org/en/developer-reference#SignRawTransaction): signs a transaction in the serialized transaction format using private keys stored in the wallet or provided in the call.\n",
    "\n",
    "#### Generate some bitcoins with a mining start\n",
    "Now let's look at the block structure, rerunning code from above.  Note that the block height is now 101.  There is one transaction for 50BTC.  Note that this is a coinbase transaction with just a vout and no vin.\n",
    "\n",
    "How to make serialized transaction?"
   ]
  },
  {
   "cell_type": "code",
   "execution_count": null,
   "metadata": {
    "collapsed": false
   },
   "outputs": [],
   "source": [
    "getblockcount = Bob.getblockcount()\n",
    "print '\\ngetblockcount = ' + str(getblockcount)\n",
    "\n",
    "getblockhash = Bob.getblockhash(getblockcount)\n",
    "print '\\ngetblockhash = ' + str(getblockhash)\n",
    "\n",
    "print '\\ngetblock\\n'\n",
    "getblock = Bob.getblock(getblockhash)\n",
    "print getblock\n",
    "\n",
    "tx = getblock['tx']\n",
    "print '\\n' + str(len(tx)) + ' Transactions\\n'\n",
    "print tx\n",
    "\n",
    "for i in range(len(tx)):\n",
    "    print '\\nSerialized Transaction #' + str(i) +'\\n'\n",
    "    serializedTX = Bob.getrawtransaction(tx[i],0)\n",
    "    print serializedTX\n",
    "    print '\\nRaw Transaction\\n'\n",
    "    rawTX = Bob.getrawtransaction(tx[i],1)\n",
    "    print rawTX\n",
    "    print '\\nDecoded Transaction\\n'\n",
    "    decodedTX    = Bob.decoderawtransaction(serializedTX)\n",
    "    print decodedTX\n"
   ]
  },
  {
   "cell_type": "markdown",
   "metadata": {},
   "source": [
    "Now that we have a raw transaction, let's look at the details.  As noted, the first 100 blocks in regtest are blank, necessary for mining our first coinbase reward of 50BTC.  This shows in block 101 with a single transaction, denoted rawTX below.  rawTX is a JSON object with:\n",
    "\n",
    "1. blockhash from block 101\n",
    "2. vout an array (len=1) of scriptPubKey, a JSON object of reqSigs and a value (50BTC here)\n",
    "3. vin an array (len=1) with a key called \"coinbase\", some value and a sequence number\n",
    "\n",
    "We veirfy that the serialized transaction hex is the same as the \"hex\" entry in the transaction.  We note that the txid is repeated in the raw transaction.  We also note that the confirmations = 1 (no further mining has been done on this block), that there is a single transaction (the mining of 50btc) and the [blocktime](https://en.bitcoin.it/wiki/Block_timestamp) and time are the same, while the locktime is the beginning of the epoch.  \n",
    "\n",
    "Note that an address has been created, in general an array of addresses, each corresponding to a transaction output (vout).  Here, a new address has been created corresponding to the miner's address for the 50BTC reward."
   ]
  },
  {
   "cell_type": "code",
   "execution_count": null,
   "metadata": {
    "collapsed": false
   },
   "outputs": [],
   "source": [
    "from datetime import datetime as dt\n",
    "#import pytz\n",
    "\n",
    "print rawTX \n",
    "print '\\n\\n'\n",
    "\n",
    "print 'blockhash = ' + str(rawTX['blockhash']) + '\\n'\n",
    "for i in range(len(rawTX['vout'])):\n",
    "    spk = rawTX['vout'][i]['scriptPubKey']\n",
    "    print 'vout ' + str(i) + ' : ' + str(spk) + '\\n'\n",
    "    for field in spk.keys(): \n",
    "        #['reqSigs','hex','addresses','asm','type']:\n",
    "        print 'vout ' + str(i) + ' ' + field + '  : ' + str(spk[field])\n",
    "    print 'vout ' + str(i) + ' value : ' + str(rawTX['vout'][i]['value'])\n",
    "    print 'vout ' + str(i) + ' n     : ' + str(rawTX['vout'][i]['n'])\n",
    "\n",
    "print '\\nserialized hex = ' + str(rawTX['hex'])\n",
    "print 'Is serialized hex == rawTX[\"hex\"]? ' + str(rawTX['hex']==serializedTX) + '\\n'\n",
    "\n",
    "for i in range(len(rawTX['vin'])):\n",
    "    spk = rawTX['vin'][i]\n",
    "    print 'vin ' + str(i) + ' : ' + str(spk) + '\\n'\n",
    "    for field in spk.keys(): \n",
    "        #['reqSigs','hex','addresses','asm','type']:\n",
    "        print 'vin ' + str(i) + ' ' + field + '  : ' + str(spk[field])\n",
    "\n",
    "print '\\n'\n",
    "for field in ['txid','blocktime','version','confirmations','time','locktime']:\n",
    "    if field in ['blocktime','time','locktime']:\n",
    "        print field + ' = ' + str(rawTX[field]) +\\\n",
    "        ' ' + dt.fromtimestamp(rawTX[field]).strftime('%Y-%m-%d:%H%M%S')\n",
    "    else:\n",
    "        print field + ' = ' + str(rawTX[field])\n"
   ]
  },
  {
   "cell_type": "code",
   "execution_count": null,
   "metadata": {
    "collapsed": false
   },
   "outputs": [],
   "source": [
    "##The P2PKH or P2SH addresses used in this transaction, \n",
    "##or the computed P2PKH address of any pubkeys in this transaction. \n",
    "\n",
    "##N.B. the developer's guide states that the address is a \"A P2PKH or P2SH address\"\n",
    "##but we see this initiate transactions as a type=\"pubkey\".  Should check on mainnet.\n",
    "\n",
    "addresses = rawTX['vout'][0]['scriptPubKey']['addresses']\n",
    "print addresses\n",
    "for address in addresses:\n",
    "    print address\n",
    "    print Bob.getbalance()\n",
    "    print Bob.getreceivedbyaddress(address,0)\n",
    "print Bob.listreceivedbyaddress(0)"
   ]
  },
  {
   "cell_type": "markdown",
   "metadata": {},
   "source": [
    "Let's create an address and send some bitcoins there.  Some things to notice:\n",
    "\n",
    "0.  We set up a new proxy, using a different RPC port on regtest\n",
    "1.  Address is *NOT* on blockchain, it is just a 32 byte hash that is almost certainly unique and never before used.\n",
    "2.  We send some coins to new address, note the transaction structure\n",
    "3.  The mempool shows the pending transaction\n",
    "4.  We need to mine to write the transaction to the blockchain"
   ]
  },
  {
   "cell_type": "code",
   "execution_count": 6,
   "metadata": {
    "collapsed": false
   },
   "outputs": [
    {
     "name": "stdout",
     "output_type": "stream",
     "text": [
      "Mary's balance = 0E-8\n",
      "\n",
      "New address mmT3ER6w98jZAKwtTZrr3DSxrchS7fGxKW\n",
      "\n",
      "Mary's address has received how many BTC? 0E-8\n"
     ]
    }
   ],
   "source": [
    "print 'Mary\\'s balance = ' + str(Mary.getbalance())\n",
    "#print 'Mary\\'s peers: '\n",
    "#print Mary.getpeerinfo()\n",
    "\n",
    "getnewaddress = Mary.getnewaddress()\n",
    "print '\\nNew address ' + str(getnewaddress)\n",
    "print '\\nMary\\'s address has received how many BTC? ' +\\\n",
    "str(Mary.getreceivedbyaddress(getnewaddress,0))\n",
    "\n",
    "##have Bob (proxy) send 25 bitcoins to Mary\n",
    "txid = Bob.sendtoaddress(getnewaddress,25)\n"
   ]
  },
  {
   "cell_type": "code",
   "execution_count": 7,
   "metadata": {
    "collapsed": false
   },
   "outputs": [
    {
     "name": "stdout",
     "output_type": "stream",
     "text": [
      "\n",
      "getmempoolinfo {u'bytes': 191, u'size': 1}\n",
      "\n",
      "getrawmempool\n",
      "{u'f58f06ca1920f17abab651ebce5e43a6e778aa0707e105dd767427d624b50d4e': {u'fee': Decimal('0.00000192'), u'startingpriority': Decimal('6410256410.25641060'), u'height': 101, u'depends': [], u'time': 1442932681, u'currentpriority': Decimal('6410256410.25641060'), u'size': 191}}\n",
      "\n",
      "\n",
      "fee : 0.00000192\n",
      "startingpriority : 6410256410.25641060\n",
      "height : 101\n",
      "depends : []\n",
      "time : 1442932681\n",
      "currentpriority : 6410256410.25641060\n",
      "size : 191\n",
      "\n",
      "Is the send txid the same as memory pool txid? ****True****\n",
      "\n",
      "Mary's balance before mining = 0E-8\n",
      "Bob's balance before mining = 24.99999808\n",
      "\n",
      "Memory Pool Raw Transaction Data\n",
      "\n",
      "{u'hex': u'01000000015bfebe850b91263319767b717c2205356fdf1b67f27943f0f22f9f237eca777400000000484730440220720f12367d57646dc2a59f29a3d1b4a346307097ec5f8462570b7ea4c17441ec022019313105ed963f19ebe9b70887abb92ca0850d2d57553320805f76960bc4190801feffffff0240f80295000000001976a9147ac57c35681d0269ec00602470056d9b72d32dd788ac00f90295000000001976a91441133658b2980061ee6a986579a6eb407b28434d88ac5b000000',\n",
      " u'locktime': 91,\n",
      " u'txid': u'f58f06ca1920f17abab651ebce5e43a6e778aa0707e105dd767427d624b50d4e',\n",
      " u'version': 1,\n",
      " u'vin': [{u'scriptSig': {u'asm': u'30440220720f12367d57646dc2a59f29a3d1b4a346307097ec5f8462570b7ea4c17441ec022019313105ed963f19ebe9b70887abb92ca0850d2d57553320805f76960bc4190801',\n",
      "                          u'hex': u'4730440220720f12367d57646dc2a59f29a3d1b4a346307097ec5f8462570b7ea4c17441ec022019313105ed963f19ebe9b70887abb92ca0850d2d57553320805f76960bc4190801'},\n",
      "           u'sequence': 4294967294,\n",
      "           u'txid': u'7477ca7e239f2ff2f04379f2671bdf6f3505227c717b76193326910b85befe5b',\n",
      "           u'vout': 0}],\n",
      " u'vout': [{u'n': 0,\n",
      "            u'scriptPubKey': {u'addresses': [u'mri7Jy9aD5TsrBvohjVE8yVdwPunWJiinU'],\n",
      "                              u'asm': u'OP_DUP OP_HASH160 7ac57c35681d0269ec00602470056d9b72d32dd7 OP_EQUALVERIFY OP_CHECKSIG',\n",
      "                              u'hex': u'76a9147ac57c35681d0269ec00602470056d9b72d32dd788ac',\n",
      "                              u'reqSigs': 1,\n",
      "                              u'type': u'pubkeyhash'},\n",
      "            u'value': Decimal('24.99999808')},\n",
      "           {u'n': 1,\n",
      "            u'scriptPubKey': {u'addresses': [u'mmT3ER6w98jZAKwtTZrr3DSxrchS7fGxKW'],\n",
      "                              u'asm': u'OP_DUP OP_HASH160 41133658b2980061ee6a986579a6eb407b28434d OP_EQUALVERIFY OP_CHECKSIG',\n",
      "                              u'hex': u'76a91441133658b2980061ee6a986579a6eb407b28434d88ac',\n",
      "                              u'reqSigs': 1,\n",
      "                              u'type': u'pubkeyhash'},\n",
      "            u'value': Decimal('25.00000000')}]}\n"
     ]
    }
   ],
   "source": [
    "getmempoolinfo = Bob.getmempoolinfo()\n",
    "getrawmempool = Bob.getrawmempool(True)\n",
    "print '\\ngetmempoolinfo ' + str(getmempoolinfo)\n",
    "print '\\ngetrawmempool'\n",
    "print getrawmempool\n",
    "print '\\n'\n",
    "for key in getrawmempool.keys():\n",
    "    for field in getrawmempool[key].keys():\n",
    "        print str(field) + ' : ' + str(getrawmempool[key][field])\n",
    "#print '\\ntxid from sendtoaddress output ' + str(txid)\n",
    "print '\\nIs the send txid the same as memory pool txid? ****' +\\\n",
    "    str(txid == getrawmempool.keys()[0]) + '****'\n",
    "\n",
    "print '\\nMary\\'s balance before mining = ' + str(Mary.getbalance())\n",
    "print 'Bob\\'s balance before mining = ' + str(Bob.getbalance())\n",
    "\n",
    "##how can I see transaction details before mining?\n",
    "print '\\nMemory Pool Raw Transaction Data\\n'\n",
    "import pprint\n",
    "pprint.pprint(Bob.getrawtransaction(txid,1))\n",
    "\n",
    "##N.B. no transaction on the blockchain yet!!!\n"
   ]
  },
  {
   "cell_type": "markdown",
   "metadata": {},
   "source": [
    "Bob mines 6 more blocks, after the fifth, the 25BTC sent to Mary is confirmed and shows in her balance.  Note that the transaction created in block 101, when Bob sent Mary 25BTC shows up in the first block mined, but the balance isn't updated until some number of blocks have been processed.  How is this determined????"
   ]
  },
  {
   "cell_type": "code",
   "execution_count": 8,
   "metadata": {
    "collapsed": false
   },
   "outputs": [
    {
     "name": "stdout",
     "output_type": "stream",
     "text": [
      "Block #102 Mary's balance 0E-8\n",
      "txids [u'1d8d53a8c305b1a5c71eff3dbe5f6a08df1c4d7f96293ecf314f208f82b426a3', u'f58f06ca1920f17abab651ebce5e43a6e778aa0707e105dd767427d624b50d4e']\n",
      "Block #103 Mary's balance 0E-8\n",
      "txids [u'6ed8aacc17f937782a72d5d7ce3fa6a398af0c6a61431e90dc782ac2d2b698fa']\n",
      "Block #104 Mary's balance 0E-8\n",
      "txids [u'f694da34fe6eaf531d391c14ae2725cd03a6deb282bae96e00710b9dc4c9d666']\n",
      "Block #105 Mary's balance 25.00000000\n",
      "txids [u'a83120ef1edb1c9e9c4202643ccceb6fd21dd84db942aa0d3424ba382340707f']\n",
      "Block #106 Mary's balance 25.00000000\n",
      "txids [u'9a2c9006abdb6d97aeb1465c9d4cc9bc7535dc1d05339d5eb0b7019541de6f35']\n",
      "Block #107 Mary's balance 25.00000000\n",
      "txids [u'4bb620b512a5cda8ba0efd5bc0575f252b821f4e17148ec7e68f54d0c2bf3672']\n",
      "Block #108 Mary's balance 25.00000000\n",
      "txids [u'ece9cf5633cc8c04f1d830bc5b6c51e73588c25d9a808f5f84c24beff461fd7b']\n"
     ]
    }
   ],
   "source": [
    "for i in range(7):\n",
    "    Bob.generate(1)\n",
    "    getblockcount   =  Bob.getblockcount()\n",
    "    getblockhash   =  Bob.getblockhash(getblockcount)\n",
    "    getblock       =  Bob.getblock(getblockhash)\n",
    "    print 'Block #' + str(getblockcount) + ' Mary\\'s balance ' + str(Mary.getbalance())\n",
    "    print 'txids ' + str(getblock['tx'])\n",
    "    "
   ]
  },
  {
   "cell_type": "code",
   "execution_count": null,
   "metadata": {
    "collapsed": false
   },
   "outputs": [],
   "source": [
    "print ' Mary\\'s balance ' + str(Mary.getbalance())"
   ]
  },
  {
   "cell_type": "markdown",
   "metadata": {},
   "source": [
    "### Wallet RPCs\n",
    "\n",
    "Note: the wallet RPCs are only available if Bitcoin Core was built with wallet support, which is the default.\n",
    "\n",
    "* [AddMultiSigAddress](https://bitcoin.org/en/developer-reference#AddMultiSigAddress): adds a P2SH multisig address to the wallet.\n",
    "* [BackupWallet](https://bitcoin.org/en/developer-reference#BackupWallet): safely copies wallet.dat to the specified file, which can be a directory or a path with filename.\n",
    "* [DumpPrivKey](https://bitcoin.org/en/developer-reference#DumpPrivKey): returns the wallet-import-format (WIP) private key corresponding to an address. (But does not remove it from the wallet.)\n",
    "* [DumpWallet](https://bitcoin.org/en/developer-reference#DumpWallet): creates or overwrites a file with all wallet keys in a human-readable format.\n",
    "* [EncryptWallet](https://bitcoin.org/en/developer-reference#EncryptWallet): encrypts the wallet with a passphrase. This is only to enable encryption for the first time. After encryption is enabled, you will need to enter the passphrase to use private keys.\n",
    "* [GetAccountAddress](https://bitcoin.org/en/developer-reference#GetAccountAddress): returns the current Bitcoin address for receiving payments to this account. If the account doesn’t exist, it creates both the account and a new address for receiving payment. Once a payment has been received to an address, future calls to this RPC for the same account will return a different address.\n",
    "* [GetAccount](https://bitcoin.org/en/developer-reference#GetAccount): returns the name of the account associated with the given address.\n",
    "* [GetAddressesByAccount](https://bitcoin.org/en/developer-reference#GetAddressesByAccount): returns a list of every address assigned to a particular account.\n",
    "* [GetBalance](https://bitcoin.org/en/developer-reference#GetBalance): gets the balance in decimal bitcoins across all accounts or for a particular account.\n",
    "* [GetNewAddress](https://bitcoin.org/en/developer-reference#GetNewAddress): returns a new Bitcoin address for receiving payments. If an account is specified, payments received with the address will be credited to that account.\n",
    "* [GetRawChangeAddress](https://bitcoin.org/en/developer-reference#GetRawChangeAddress): returns a new Bitcoin address for receiving change. This is for use with raw transactions, not normal use.\n",
    "* [GetReceivedByAccount](https://bitcoin.org/en/developer-reference#GetReceivedByAccount): returns the total amount received by addresses in a particular account from transactions with the specified number of confirmations. It does not count coinbase transactions.\n",
    "* [GetReceivedByAddress](https://bitcoin.org/en/developer-reference#GetReceivedByAddress): returns the total amount received by the specified address in transactions with the specified number of confirmations. It does not count coinbase transactions.\n",
    "* [GetTransaction](https://bitcoin.org/en/developer-reference#GetTransaction): gets detailed information about an in-wallet transaction. Updated in 0.10.0\n",
    "* [GetUnconfirmedBalance](https://bitcoin.org/en/developer-reference#GetUnconfirmedBalance): returns the wallet’s total unconfirmed balance.\n",
    "* [GetWalletInfo](https://bitcoin.org/en/developer-reference#GetWalletInfo): provides information about the wallet. New in 0.9.2\n",
    "* [ImportAddress](https://bitcoin.org/en/developer-reference#ImportAddress): adds an address or pubkey script to the wallet without the associated private key, allowing you to watch for transactions affecting that address or pubkey script without being able to spend any of its outputs. New in 0.10.0\n",
    "* [ImportPrivKey](https://bitcoin.org/en/developer-reference#ImportPrivKey): adds a private key to your wallet. The key should be formatted in the wallet import format created by the dumpprivkey RPC.\n",
    "* [ImportWallet](https://bitcoin.org/en/developer-reference#ImportWallet): imports private keys from a file in wallet dump file format (see the dumpwallet RPC). These keys will be added to the keys currently in the wallet. This call may need to rescan all or parts of the block chain for transactions affecting the newly-added keys, which may take several minutes.\n",
    "* [KeyPoolRefill](https://bitcoin.org/en/developer-reference#KeyPoolRefill): fills the cache of unused pre-generated keys (the keypool).\n",
    "* [ListAccounts](https://bitcoin.org/en/developer-reference#ListAccounts): lists accounts and their balances. Updated in 0.10.0\n",
    "* [ListAddressGroupings](https://bitcoin.org/en/developer-reference#ListAddressGroupings): lists groups of addresses that may have had their common ownership made public by common use as inputs in the same transaction or from being used as change from a previous transaction.\n",
    "* [ListLockUnspent](https://bitcoin.org/en/developer-reference#ListLockUnspent): returns a list of temporarily unspendable (locked) outputs.\n",
    "* [ListReceivedByAccount](https://bitcoin.org/en/developer-reference#ListReceivedByAccount): lists the total number of bitcoins received by each account. Updated in 0.10.0\n",
    "* [ListReceivedByAddress](https://bitcoin.org/en/developer-reference#ListReceivedByAddress): lists the total number of bitcoins received by each address. Updated in 0.10.0\n",
    "* [ListSinceBlock](https://bitcoin.org/en/developer-reference#ListSinceBlock): gets all transactions affecting the wallet which have occurred since a particular block, plus the header hash of a block at a particular depth. Updated in 0.10.0\n",
    "* [ListTransactions](https://bitcoin.org/en/developer-reference#ListTransactions): returns the most recent transactions that affect the wallet. Updated in 0.10.0\n",
    "* [ListUnspent](https://bitcoin.org/en/developer-reference#ListUnspent): returns an array of unspent transaction outputs belonging to this wallet. Updated in 0.10.0\n",
    "* [LockUnspent](https://bitcoin.org/en/developer-reference#LockUnspent): temporarily locks or unlocks specified transaction outputs. A locked transaction output will not be chosen by automatic coin selection when spending bitcoins. Locks are stored in memory only, so nodes start with zero locked outputs and the locked output list is always cleared when a node stops or fails.\n",
    "* [Move](https://bitcoin.org/en/developer-reference#Move): moves a specified amount from one account in your wallet to another using an off-block-chain transaction.\n",
    "* [SendFrom](https://bitcoin.org/en/developer-reference#SendFrom): spends an amount from a local account to a bitcoin address.\n",
    "* [SendMany](https://bitcoin.org/en/developer-reference#SendMany): creates and broadcasts a transaction which sends outputs to multiple addresses.\n",
    "* [SendToAddress](https://bitcoin.org/en/developer-reference#SendToAddress): spends an amount to a given address.\n",
    "* [SetAccount](https://bitcoin.org/en/developer-reference#SetAccount): puts the specified address in the given account.\n",
    "* [SetTxFee](https://bitcoin.org/en/developer-reference#SetTxFee): sets the transaction fee per kilobyte paid by transactions created by this wallet.\n",
    "* [SignMessage](https://bitcoin.org/en/developer-reference#SignMessage): signs a message with the private key of an address.\n",
    "* [WalletLock](https://bitcoin.org/en/developer-reference#WalletLock): removes the wallet encryption key from memory, locking the wallet. After calling this method, you will need to call walletpassphrase again before being able to call any methods which require the wallet to be unlocked.\n",
    "* [WalletPassphrase](https://bitcoin.org/en/developer-reference#WalletPassphrase): stores the wallet decryption key in memory for the indicated number of seconds. Issuing the walletpassphrase command while the wallet is already unlocked will set a new unlock time that overrides the old one.\n",
    "* [WalletPassphraseChange](https://bitcoin.org/en/developer-reference#walletpassphrasechange): changes the wallet passphrase from ‘old passphrase’ to ‘new passphrase’.\n",
    "\n"
   ]
  },
  {
   "cell_type": "code",
   "execution_count": 15,
   "metadata": {
    "collapsed": false
   },
   "outputs": [
    {
     "name": "stdout",
     "output_type": "stream",
     "text": [
      "\n",
      "Bob's Wallet\n",
      "\n",
      "unconfirmed_balance\t0E-8\n",
      "paytxfee\t0E-8\n",
      "keypoololdest\t1442925718\n",
      "walletversion\t60000\n",
      "immature_balance\t5000.00000192\n",
      "txcount\t109\n",
      "balance\t374.99999808\n",
      "keypoolsize\t101\n",
      "\n",
      "Mary's Wallet\n",
      "\n",
      "unconfirmed_balance\t0E-8\n",
      "paytxfee\t0E-8\n",
      "keypoololdest\t1442925718\n",
      "walletversion\t60000\n",
      "immature_balance\t0E-8\n",
      "txcount\t1\n",
      "balance\t25.00000000\n",
      "keypoolsize\t101\n",
      "\n",
      "\n",
      "[{u'category': u'receive', u'account': u'', u'blockhash': u'4fe9011aba9053ef0079094f644c2f1e7a24650833145e477b7e735e0c98d776', u'vout': 1, u'blockindex': 1, u'walletconflicts': [], u'time': 1442932681, u'txid': u'f58f06ca1920f17abab651ebce5e43a6e778aa0707e105dd767427d624b50d4e', u'blocktime': 1442932701, u'amount': Decimal('25.00000000'), u'confirmations': 7, u'timereceived': 1442932681, u'address': u'mmT3ER6w98jZAKwtTZrr3DSxrchS7fGxKW'}]\n"
     ]
    }
   ],
   "source": [
    "print '\\nBob\\'s Wallet\\n'\n",
    "wallet= Bob.getwalletinfo()\n",
    "for key in wallet.keys():\n",
    "    print key + '\\t' + str(wallet[key])\n",
    "print '\\nMary\\'s Wallet\\n'\n",
    "wallet= Mary.getwalletinfo()\n",
    "for key in wallet.keys():\n",
    "    print key + '\\t' + str(wallet[key])"
   ]
  },
  {
   "cell_type": "code",
   "execution_count": 25,
   "metadata": {
    "collapsed": false
   },
   "outputs": [
    {
     "name": "stdout",
     "output_type": "stream",
     "text": [
      "\n",
      "Mary has 5 transactions from Bob's largesse\n",
      "\n",
      "Mary's first address has received how many BTC? 25.00000000\n",
      "\n",
      "Bob has 10 transactions from all that mining\n",
      "\n",
      "New address mzvyfDiqtpmkVNzGLTd19KvJvzxpYLmn8u\n",
      "\n",
      "Mary's unconfirmed balance 2.50000000\n",
      "\n",
      "Mary's confirmed balance 25.00000000\n",
      "After Bob's mining\n",
      "\n",
      "Mary's unconfirmed balance 0E-8\n",
      "\n",
      "Mary's confirmed balance 27.50000000\n"
     ]
    }
   ],
   "source": [
    "import time\n",
    "print '\\nMary has ' + str(len(Mary.listtransactions())) + ' transactions from Bob\\'s largesse'\n",
    "\n",
    "print '\\nMary\\'s first address has received how many BTC? ' +\\\n",
    "str(Mary.getreceivedbyaddress( Mary.listtransactions()[0]['address'],0))\n",
    "#str(Mary.getreceivedbyaddress('mmT3ER6w98jZAKwtTZrr3DSxrchS7fGxKW',0))\n",
    "\n",
    "print '\\nBob has ' + str(len(Bob.listtransactions())) + ' transactions from all that mining'\n",
    "#print Bob.listtransactions()\n",
    "\n",
    "\n",
    "\n",
    "\n",
    "##let's send Mary some more of Bob's bitcoins so we can see her unconfirmed balance\n",
    "getnewaddress = Mary.getnewaddress()\n",
    "print '\\nNew address ' + str(getnewaddress)\n",
    "\n",
    "##have Bob (proxy) send 0.5 bitcoins to Mary\n",
    "txid = Bob.sendtoaddress(getnewaddress,0.5)\n",
    "\n",
    "time.sleep(2)\n",
    "\n",
    "print '\\nMary\\'s unconfirmed balance ' + str(Mary.getunconfirmedbalance())\n",
    "print '\\nMary\\'s confirmed balance ' + str(Mary.getbalance())\n",
    "\n",
    "##let's mine 6 blocks\n",
    "Bob.generate(6)\n",
    "\n",
    "time.sleep(2)\n",
    "\n",
    "print 'After Bob\\'s mining'\n",
    "print '\\nMary\\'s unconfirmed balance ' + str(Mary.getunconfirmedbalance())\n",
    "print '\\nMary\\'s confirmed balance ' + str(Mary.getbalance())\n"
   ]
  },
  {
   "cell_type": "markdown",
   "metadata": {},
   "source": [
    "#### Wallet Programs\n",
    "\n",
    "Permitting receiving and spending of satoshis is the only essential feature of wallet software—but a particular wallet program doesn’t need to do both things. Two wallet programs can work together, one program distributing public keys in order to receive satoshis and another program signing transactions spending those satoshis.\n",
    "\n",
    "Wallet programs also need to interact with the peer-to-peer network to get information from the block chain and to broadcast new transactions. However, the programs which distribute public keys or sign transactions don’t need to interact with the peer-to-peer network themselves.\n",
    "\n",
    "This leaves us with three necessary, but separable, parts of a wallet system: a public key distribution program, a signing program, and a networked program. In the subsections below, we will describe common combinations of these parts."
   ]
  },
  {
   "cell_type": "markdown",
   "metadata": {},
   "source": [
    "#### Full-Service Wallets\n",
    "\n",
    "The simplest wallet is a program which performs all three functions: it generates private keys, derives the corresponding public keys, helps distribute those public keys as necessary, monitors for outputs spent to those public keys, creates and signs transactions spending those outputs, and broadcasts the signed transactions.\n",
    "\n",
    "![](https://bitcoin.org/img/dev/en-wallets-full-service.svg \"Full Service Wallets\")\n",
    "\n",
    "Full-Service Wallets\n",
    "\n",
    "As of this writing, almost all popular wallets can be used as full-service wallets.\n",
    "\n",
    "The main advantage of full-service wallets is that they are easy to use. A single program does everything the user needs to receive and spend satoshis.\n",
    "\n",
    "The main disadvantage of full-service wallets is that they store the private keys on a device connected to the Internet. The compromise of such devices is a common occurrence, and an Internet connection makes it easy to transmit private keys from a compromised device to an attacker."
   ]
  },
  {
   "cell_type": "code",
   "execution_count": null,
   "metadata": {
    "collapsed": true
   },
   "outputs": [],
   "source": []
  },
  {
   "cell_type": "markdown",
   "metadata": {},
   "source": [
    "### Utility RPCs\n",
    "\n",
    "* [CreateMultiSig](https://bitcoin.org/en/developer-reference#CreateMultiSig): creates a P2SH multi-signature address.\n",
    "* [EstimateFee](https://bitcoin.org/en/developer-reference#EstimateFee): estimates the transaction fee per kilobyte that needs to be paid for a transaction to be included within a certain number of blocks. New in 0.10.0\n",
    "* [EstimatePriority](https://bitcoin.org/en/developer-reference#EstimatePriority): estimates the priority that a transaction needs in order to be included within a certain number of blocks as a free high-priority transaction. New in 0.10.0\n",
    "* [ValidateAddress](https://bitcoin.org/en/developer-reference#ValidateAddress): returns information about the given Bitcoin address.\n",
    "* [VerifyMessage](https://bitcoin.org/en/developer-reference#VerifyMessage): verifies a signed message."
   ]
  },
  {
   "cell_type": "code",
   "execution_count": null,
   "metadata": {
    "collapsed": true
   },
   "outputs": [],
   "source": []
  },
  {
   "cell_type": "markdown",
   "metadata": {},
   "source": [
    "This code determines whether a transaction is included in a Merkle Tree.  From [Luke Dashjr](https://github.com/Crypto-Expert/stratum-mining/blob/master/lib/merkletree.py)"
   ]
  },
  {
   "cell_type": "code",
   "execution_count": null,
   "metadata": {
    "collapsed": false
   },
   "outputs": [],
   "source": [
    "# Eloipool - Python Bitcoin pool server\n",
    "# Copyright (C) 2011-2012  Luke Dashjr <luke-jr+eloipool@utopios.org>\n",
    "#\n",
    "# This program is free software: you can redistribute it and/or modify\n",
    "# it under the terms of the GNU Affero General Public License as\n",
    "# published by the Free Software Foundation, either version 3 of the\n",
    "# License, or (at your option) any later version.\n",
    "#\n",
    "# This program is distributed in the hope that it will be useful,\n",
    "# but WITHOUT ANY WARRANTY; without even the implied warranty of\n",
    "# MERCHANTABILITY or FITNESS FOR A PARTICULAR PURPOSE.  See the\n",
    "# GNU Affero General Public License for more details.\n",
    "#\n",
    "# You should have received a copy of the GNU Affero General Public License\n",
    "# along with this program.  If not, see <http://www.gnu.org/licenses/>.\n",
    "\n",
    "# original code https://github.com/Crypto-Expert/stratum-mining/blob/master/lib/merkletree.py\n",
    "# http://code.runnable.com/U3jqtyYUmAUxtsSS/bitcoin-block-merkle-root-python\n",
    "\n",
    "from hashlib import sha256\n",
    "from util import doublesha\n",
    "\n",
    "class MerkleTree:\n",
    "    def __init__(self, data, detailed=False):\n",
    "        self.data = data\n",
    "        self.recalculate(detailed)\n",
    "        self._hash_steps = None\n",
    "    \n",
    "    def recalculate(self, detailed=False):\n",
    "        L = self.data\n",
    "        steps = []\n",
    "        if detailed:\n",
    "            detail = []\n",
    "            PreL = []\n",
    "            StartL = 0\n",
    "        else:\n",
    "            detail = None\n",
    "            PreL = [None]\n",
    "            StartL = 2\n",
    "        Ll = len(L)\n",
    "        if detailed or Ll > 1:\n",
    "            while True:\n",
    "                if detailed:\n",
    "                    detail += L\n",
    "                if Ll == 1:\n",
    "                    break\n",
    "                steps.append(L[1])\n",
    "                if Ll % 2:\n",
    "                    L += [L[-1]]\n",
    "                L = PreL + [doublesha(L[i] + L[i + 1]) for i in range(StartL, Ll, 2)]\n",
    "                Ll = len(L)\n",
    "        self._steps = steps\n",
    "        self.detail = detail\n",
    "    \n",
    "    def hash_steps(self):\n",
    "        if self._hash_steps == None:\n",
    "            self._hash_steps = doublesha(''.join(self._steps))\n",
    "        return self._hash_steps\n",
    "        \n",
    "    def withFirst(self, f):\n",
    "        steps = self._steps\n",
    "        for s in steps:\n",
    "            f = doublesha(f + s)\n",
    "        return f\n",
    "    \n",
    "    def merkleRoot(self):\n",
    "        return self.withFirst(self.data[0])\n",
    "\n",
    "# MerkleTree tests\n",
    "def _test():\n",
    "    import binascii\n",
    "    import time    \n",
    "        \n",
    "    mt = MerkleTree([None] + [binascii.unhexlify(a) for a in [\n",
    "        '999d2c8bb6bda0bf784d9ebeb631d711dbbbfe1bc006ea13d6ad0d6a2649a971',\n",
    "        '3f92594d5a3d7b4df29d7dd7c46a0dac39a96e751ba0fc9bab5435ea5e22a19d',\n",
    "        'a5633f03855f541d8e60a6340fc491d49709dc821f3acb571956a856637adcb6',\n",
    "        '28d97c850eaf917a4c76c02474b05b70a197eaefb468d21c22ed110afe8ec9e0',\n",
    "    ]])\n",
    "    assert(\n",
    "        b'82293f182d5db07d08acf334a5a907012bbb9990851557ac0ec028116081bd5a' ==\n",
    "        binascii.b2a_hex(mt.withFirst(binascii.unhexlify('d43b669fb42cfa84695b844c0402d410213faa4f3e66cb7248f688ff19d5e5f7')))\n",
    "    )\n",
    "    \n",
    "    print '82293f182d5db07d08acf334a5a907012bbb9990851557ac0ec028116081bd5a'\n",
    "    txes = [binascii.unhexlify(a) for a in [\n",
    "        'd43b669fb42cfa84695b844c0402d410213faa4f3e66cb7248f688ff19d5e5f7',\n",
    "        '999d2c8bb6bda0bf784d9ebeb631d711dbbbfe1bc006ea13d6ad0d6a2649a971',\n",
    "        '3f92594d5a3d7b4df29d7dd7c46a0dac39a96e751ba0fc9bab5435ea5e22a19d',\n",
    "        'a5633f03855f541d8e60a6340fc491d49709dc821f3acb571956a856637adcb6',\n",
    "        '28d97c850eaf917a4c76c02474b05b70a197eaefb468d21c22ed110afe8ec9e0',\n",
    "    ]]\n",
    "             \n",
    "    s = time.time()\n",
    "    mt = MerkleTree(txes)\n",
    "    for x in range(100):\n",
    "        y = int('d43b669fb42cfa84695b844c0402d410213faa4f3e66cb7248f688ff19d5e5f7', 16)\n",
    "        #y += x\n",
    "        coinbasehash = binascii.unhexlify(\"%x\" % y)\n",
    "        x = binascii.b2a_hex(mt.withFirst(coinbasehash))\n",
    "\n",
    "    print x\n",
    "    print time.time() - s\n",
    "\n",
    "if __name__ == '__main__':\n",
    "    _test()\n",
    "    "
   ]
  },
  {
   "cell_type": "markdown",
   "metadata": {},
   "source": [
    "This code snippet illustrates a simplified proof-of-work algorithm *not* used by miners; by incementing the nonce and trying difficulties from 1-31 bits (2 - 2^32).  Note that this runs for a long time, more than 20 minutes on a 4GB-RAM Ubuntu box.\n",
    "\n",
    "From [Mastering Bitcoin](http://chimera.labs.oreilly.com/books/1234000001802/ch08.html#_proof_of_work_algorithm)"
   ]
  },
  {
   "cell_type": "code",
   "execution_count": null,
   "metadata": {
    "collapsed": false
   },
   "outputs": [],
   "source": [
    "#!/usr/bin/env python\n",
    "# example of proof-of-work algorithm\n",
    "\n",
    "import hashlib\n",
    "import time\n",
    "\n",
    "max_nonce = 2 ** 32 # 4 billion\n",
    "\n",
    "def proof_of_work(header, difficulty_bits):\n",
    "\n",
    "    # calculate the difficulty target\n",
    "    target = 2 ** (256-difficulty_bits)\n",
    "\n",
    "    for nonce in xrange(max_nonce):\n",
    "        hash_result = hashlib.sha256(str(header)+str(nonce)).hexdigest()\n",
    "\n",
    "        # check if this is a valid result, below the target\n",
    "        if long(hash_result, 16) < target:\n",
    "            print \"Success with nonce %d\" % nonce\n",
    "            print \"Hash is %s\" % hash_result\n",
    "            return (hash_result,nonce)\n",
    "\n",
    "    print \"Failed after %d (max_nonce) tries\" % nonce\n",
    "    return nonce\n",
    "\n",
    "\n",
    "if __name__ == '__main__':\n",
    "\n",
    "    nonce = 0\n",
    "    hash_result = ''\n",
    "\n",
    "    # difficulty from 0 to 31 bits\n",
    "    for difficulty_bits in xrange(32):\n",
    "\n",
    "        difficulty = 2 ** difficulty_bits\n",
    "        print \"Difficulty: %ld (%d bits)\" % (difficulty, difficulty_bits)\n",
    "\n",
    "        print \"Starting search...\"\n",
    "\n",
    "        # checkpoint the current time\n",
    "        start_time = time.time()\n",
    "\n",
    "        # make a new block which includes the hash from the previous block\n",
    "        # we fake a block of transactions - just a string\n",
    "        new_block = 'test block with transactions' + hash_result\n",
    "\n",
    "        # find a valid nonce for the new block\n",
    "        (hash_result, nonce) = proof_of_work(new_block, difficulty_bits)\n",
    "\n",
    "        # checkpoint how long it took to find a result\n",
    "        end_time = time.time()\n",
    "\n",
    "        elapsed_time = end_time - start_time\n",
    "        print \"Elapsed Time: %.4f seconds\" % elapsed_time\n",
    "\n",
    "        if elapsed_time > 0:\n",
    "\n",
    "            # estimate the hashes per second\n",
    "            hash_power = float(long(nonce)/elapsed_time)\n",
    "            print \"Hashing Power: %ld hashes per second\" % hash_power"
   ]
  },
  {
   "cell_type": "code",
   "execution_count": null,
   "metadata": {
    "collapsed": true
   },
   "outputs": [],
   "source": []
  }
 ],
 "metadata": {
  "kernelspec": {
   "display_name": "Python 2",
   "language": "python",
   "name": "python2"
  },
  "language_info": {
   "codemirror_mode": {
    "name": "ipython",
    "version": 2
   },
   "file_extension": ".py",
   "mimetype": "text/x-python",
   "name": "python",
   "nbconvert_exporter": "python",
   "pygments_lexer": "ipython2",
   "version": "2.7.6"
  }
 },
 "nbformat": 4,
 "nbformat_minor": 0
}
